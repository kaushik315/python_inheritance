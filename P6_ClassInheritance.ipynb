{
  "cells": [
    {
      "cell_type": "markdown",
      "metadata": {
        "id": "sUrMf5KQQ1bq"
      },
      "source": [
        "# Class Inheritance\n",
        "\n",
        "\n"
      ]
    },
    {
      "cell_type": "markdown",
      "metadata": {
        "id": "GjKNbHgSQ1bs"
      },
      "source": [
        "## Overview\n",
        "\n",
        "This is the time you do some hardcore work on OOP with Python.\n",
        "I will give you a task and you should manage doing it.\n",
        "\n",
        "You are always welcome to discuss amongst yourselves and search online (and you are also encouraged to explore stuff we did not cover during the lecture, such as operator overloading)\n"
      ]
    },
    {
      "cell_type": "markdown",
      "metadata": {
        "id": "C_EnGOJEQ1bs"
      },
      "source": [
        "## Task\n",
        "\n",
        "You need to create a a certain number of classes that representing University personnel.\n",
        "In a university, you can mainly find students and staff. Amongst the staff, you have academic, administrative, and support staff.\n",
        "\n",
        "Create the best class hierarchy for this task. Don't waste much time in adding all the possible information (only the most important should be enough). It is more important you master class, class inheritance, method implementation (e.g., constructon, getters and setters, and any other methods you need). I suggest creating a new cell per each class"
      ]
    },
    {
      "cell_type": "code",
      "execution_count": null,
      "metadata": {
        "id": "wa6Ry5rBQ1bt"
      },
      "outputs": [],
      "source": [
        "class basic_details:\n",
        "  def __init__(self, name, age, gender):\n",
        "    self.name = name\n",
        "    self.age = age\n",
        "    self.gender = gender\n",
        "\n",
        "\n",
        "class student(basic_details):\n",
        "    def __init__(self, name, age, gender, student_id, course):\n",
        "        super().__init__(name, age, gender)\n",
        "        self.student_id = student_id\n",
        "        self.course = course\n",
        "\n",
        "    def get_details(self):\n",
        "        return f\"Name: {self.name}, Age: {self.age}, Gender: {self.gender}, Student ID: {self.student_id}, Course: {self.course}\"\n",
        "\n",
        "\n",
        "class staff(basic_details):\n",
        "  def __init__(self, name, age, gender, staff_id, role):\n",
        "    super().__init__(name, age, gender)\n",
        "    self.staff_id = staff_id;\n",
        "    self.role = role;\n",
        "\n",
        "  def get_details(self):\n",
        "        return f\"Name: {self.name}, Age: {self.age}, Gender: {self.gender}, staff ID: {self.staff_id}, Role: {self.role}\"\n",
        "\n",
        "class departmentOfStaffs(staff):\n",
        "  def __init__(self, name, age, gender, staff_id, role, department):\n",
        "    super().__init__(name, age, gender, staff_id, role)\n",
        "    self.department = department\n",
        "\n",
        "  def get_details(self):\n",
        "        return f\"Name: {self.name}, Age: {self.age}, Gender: {self.gender}, staff ID: {self.staff_id}, Role: {self.role}, Department: {self.department}\""
      ]
    },
    {
      "cell_type": "markdown",
      "metadata": {
        "id": "ifC16dFNQ1bt"
      },
      "source": [
        "## Evaluation\n",
        "\n",
        "Evaluate your code creating 3 instance of the student class and 3 for each of the staff personnel (administrative, accademic, support). In total, you should have 9 instances. You are free to create more than that!"
      ]
    },
    {
      "cell_type": "code",
      "execution_count": null,
      "metadata": {
        "id": "BGlqBzDBQ1bt",
        "colab": {
          "base_uri": "https://localhost:8080/"
        },
        "outputId": "4598036b-70f2-4130-9bef-31b993e8b300"
      },
      "outputs": [
        {
          "output_type": "stream",
          "name": "stdout",
          "text": [
            "Name: Dr. Smith, Age: 40, Gender: Male, staff ID: A98765, Role: Professor, Department: Computer Science\n"
          ]
        }
      ],
      "source": [
        "\n",
        "student1 = student(\"John Doe\", 20, \"Male\", \"S12345\", \"Computer Science\")\n",
        "student2 = student(\"Jane Smith\", 22, \"Female\", \"S67890\", \"Mathematics\")\n",
        "student3 = student(\"Bob Johnson\", 21, \"Male\", \"S54321\", \"Physics\")\n",
        "\n",
        "\n",
        "staff1 = staff(\"Dr. Smith\", 40, \"Male\", \"A98765\", \"Professor\")\n",
        "staff2 = staff(\"Ms. Davis\", 30, \"Female\", \"Ad12345\", \"Secretary\")\n",
        "staff3 = staff(\"Mr. Johnson\", 25, \"Male\", \"Ss98765\", \"IT Support\")\n",
        "\n",
        "\n",
        "dept_staff1 = departmentOfStaffs(\"Dr. Smith\", 40, \"Male\", \"A98765\", \"Professor\", \"Computer Science\")\n",
        "dept_staff2 = departmentOfStaffs(\"Ms. Davis\", 30, \"Female\", \"Ad12345\", \"Secretary\", \"Administration\")\n",
        "dept_staff3 = departmentOfStaffs(\"Mr. Johnson\", 25, \"Male\", \"Ss98765\", \"IT Support\", \"IT Department\")\n",
        "\n",
        "print(dept_staff1.get_details())\n"
      ]
    }
  ],
  "metadata": {
    "kernelspec": {
      "display_name": "Python 3",
      "language": "python",
      "name": "python3"
    },
    "language_info": {
      "codemirror_mode": {
        "name": "ipython",
        "version": 3
      },
      "file_extension": ".py",
      "mimetype": "text/x-python",
      "name": "python",
      "nbconvert_exporter": "python",
      "pygments_lexer": "ipython3",
      "version": "3.7.6"
    },
    "colab": {
      "provenance": []
    }
  },
  "nbformat": 4,
  "nbformat_minor": 0
}